{
 "cells": [
  {
   "cell_type": "code",
   "execution_count": 1,
   "metadata": {},
   "outputs": [
    {
     "name": "stderr",
     "output_type": "stream",
     "text": [
      "C:\\Anaconda3\\lib\\site-packages\\ema_workbench\\em_framework\\optimization.py:22: ImportWarning: platypus based optimization not available\n",
      "  warnings.warn(\"platypus based optimization not available\", ImportWarning)\n",
      "C:\\Anaconda3\\lib\\site-packages\\ema_workbench\\connectors\\__init__.py:8: ImportWarning: vensim connector not available\n",
      "  warnings.warn(\"vensim connector not available\", ImportWarning)\n",
      "C:\\Anaconda3\\lib\\site-packages\\ema_workbench\\connectors\\__init__.py:23: ImportWarning: pysd connector not available\n",
      "  warnings.warn(\"pysd connector not available\", ImportWarning)\n",
      "C:\\Anaconda3\\lib\\importlib\\_bootstrap.py:205: ImportWarning: can't resolve package from __spec__ or __package__, falling back on __name__ and __path__\n",
      "  return f(*args, **kwds)\n"
     ]
    },
    {
     "data": {
      "text/plain": [
       "<Logger EMA (DEBUG)>"
      ]
     },
     "execution_count": 1,
     "metadata": {},
     "output_type": "execute_result"
    }
   ],
   "source": [
    "from ema_workbench import (ema_logging, RealParameter, IntegerParameter,\n",
    "                           TimeSeriesOutcome, ScalarOutcome, Constant, MultiprocessingEvaluator, perform_experiments, save_results, load_results)\n",
    "\n",
    "from integrated_model import IntegratedModel\n",
    "from integrated_model import mean_over_replications\n",
    "import numpy as np\n",
    "import matplotlib.pyplot as plt\n",
    "import pandas as pd\n",
    "import mpld3\n",
    "import operator\n",
    "from ema_workbench.analysis import prim\n",
    "from ema_workbench.analysis.plotting_util import VIOLIN, KDE\n",
    "from ema_workbench.analysis.plotting import lines, envelopes\n",
    "\n",
    "from ema_workbench.analysis.pairs_plotting import pairs_lines, pairs_scatter, pairs_density\n",
    "from ema_workbench.util import load_results, ema_logging\n",
    "\n",
    "import seaborn as sns\n",
    "ema_logging.LOG_FORMAT = '[%(name)s/%(levelname)s/%(processName)s] %(message)s'\n",
    "ema_logging.log_to_stderr(ema_logging.INFO)\n"
   ]
  },
  {
   "cell_type": "code",
   "execution_count": 2,
   "metadata": {
    "collapsed": true
   },
   "outputs": [],
   "source": [
    "ema_logging.LOG_FORMAT = '[%(name)s/%(levelname)s/%(processName)s] %(message)s'\n",
    "ema_logging.log_to_stderr(ema_logging.INFO)\n",
    "\n",
    "model = IntegratedModel('Model_ecosystem', wd='./model') \n",
    "model.replications = 50\n",
    "\n",
    "#specify uncertainties\n",
    "model.uncertainties = [RealParameter(\"energy_demand_growth_f\",-0.006, 0.013),\n",
    "                            RealParameter(\"a\",0,0.2),\n",
    "                            RealParameter(\"market_share_base_growth_f\", -0.02, 0.02),\n",
    "                            IntegerParameter(\"u\", 0,39),\n",
    "                            RealParameter(\"c\",0.03,0.733),\n",
    "                            RealParameter(\"other_grey_share_growth_f\", -0.015,0.015)\n",
    "                          ]\n",
    "#specify outcomes \n",
    "model.outcomes = [TimeSeriesOutcome('area_capacity_current', function=mean_over_replications),    \n",
    "                    TimeSeriesOutcome('area_capacity_unused_current', function=mean_over_replications),           \n",
    "                    TimeSeriesOutcome('area_TP_current', function=mean_over_replications),                       \n",
    "                    TimeSeriesOutcome('area_occupancy_current', function=mean_over_replications),                \n",
    "                    TimeSeriesOutcome('area_denied_infra_cap_current', function=mean_over_replications),          \n",
    "                    TimeSeriesOutcome('area_denied_cap_percentage_current', function=mean_over_replications),     \n",
    "                    TimeSeriesOutcome('terminal_capacity_current', function=mean_over_replications),              \n",
    "                    TimeSeriesOutcome('terminal_capacity_unused_current', function=mean_over_replications),       \n",
    "                    TimeSeriesOutcome('terminal_TP_current', function=mean_over_replications),                    \n",
    "                    TimeSeriesOutcome('terminal_occupancy_current', function = mean_over_replications),             \n",
    "                    TimeSeriesOutcome('terminal_capacity_expanded_current', function=mean_over_replications),     \n",
    "                    TimeSeriesOutcome('terminal_capacity_initial_current', function=mean_over_replications),      \n",
    "                    TimeSeriesOutcome('terminal_denied_infra_cap_current', function=mean_over_replications),      \n",
    "                    TimeSeriesOutcome('terminal_surface_current', function=mean_over_replications),               \n",
    "                    TimeSeriesOutcome('TP_without_terminal_current', function=mean_over_replications),            \n",
    "                    TimeSeriesOutcome('total_TP_rdam_current', function=mean_over_replications),                  \n",
    "                    TimeSeriesOutcome('total_surface_terminals_current', function=mean_over_replications),          \n",
    "                    TimeSeriesOutcome('business_case_terminal_current', function=mean_over_replications),         \n",
    "                    TimeSeriesOutcome('business_value_pora_current', function=mean_over_replications),            \n",
    "                    TimeSeriesOutcome('area_capacity_project', function=mean_over_replications),                  \n",
    "                    TimeSeriesOutcome('area_capacity_unused_project', function=mean_over_replications),           \n",
    "                    TimeSeriesOutcome('area_TP_project', function=mean_over_replications),                        \n",
    "                    TimeSeriesOutcome('area_occupancy_project', function=mean_over_replications),                 \n",
    "                    TimeSeriesOutcome('area_denied_infra_cap_project', function=mean_over_replications),          \n",
    "                    TimeSeriesOutcome('area_denied_cap_percentage_project', function=mean_over_replications),     \n",
    "                    TimeSeriesOutcome('terminal_capacity_project', function=mean_over_replications),              \n",
    "                    TimeSeriesOutcome('terminal_capacity_unused_project', function=mean_over_replications),       \n",
    "                    TimeSeriesOutcome('terminal_TP_project', function=mean_over_replications),                    \n",
    "                    TimeSeriesOutcome('terminal_occupancy_project', function=mean_over_replications),             \n",
    "                    TimeSeriesOutcome('terminal_capacity_expanded_project', function=mean_over_replications),     \n",
    "                    TimeSeriesOutcome('terminal_capacity_initial_project', function=mean_over_replications),      \n",
    "                    TimeSeriesOutcome('terminal_denied_infra_cap_project', function=mean_over_replications),      \n",
    "                    TimeSeriesOutcome('terminal_surface_project', function=mean_over_replications),               \n",
    "                    TimeSeriesOutcome('TP_without_terminal_project', function=mean_over_replications),            \n",
    "                    TimeSeriesOutcome('total_TP_rdam_project', function=mean_over_replications),                  \n",
    "                    TimeSeriesOutcome('total_surface_terminals_project', function=mean_over_replications),  \n",
    "                    TimeSeriesOutcome('business_case_terminal_project', function=mean_over_replications),\n",
    "                    TimeSeriesOutcome('business_value_pora_project', function=mean_over_replications),\n",
    "                    TimeSeriesOutcome('coal_throughput_Rdam_project', function=mean_over_replications),\n",
    "                    TimeSeriesOutcome('market_share_Rdam_project', function=mean_over_replications),\n",
    "                    TimeSeriesOutcome('coal_throughput_Rdam_current', function=mean_over_replications),\n",
    "                    TimeSeriesOutcome('market_share_Rdam_current', function=mean_over_replications),\n",
    "                    ScalarOutcome('NPV', function=mean_over_replications)]\n",
    "\n",
    "# specify model constants\n",
    "model.constants = [Constant('run_times', 40),\n",
    "                  Constant('project_to_assess','Infrastructure'),\n",
    "                  Constant('energy_demand_init', 240000000),\n",
    "                  Constant('other_grey_share_init', 0.54),\n",
    "                  Constant('green_share_init', 0.267),\n",
    "                  Constant('market_share_init', 0.376)\n",
    "                  ]\n"
   ]
  },
  {
   "cell_type": "code",
   "execution_count": 2,
   "metadata": {
    "collapsed": true
   },
   "outputs": [],
   "source": [
    "with MultiprocessingEvaluator(model) as evaluator:\n",
    "    results = evaluator.perform_experiments(1000)\n",
    "save_results(results, r'ResultsEcosystem1109 rep 50 exp 10000.tar.gz')"
   ]
  }
 ],
 "metadata": {
  "kernelspec": {
   "display_name": "Python 3",
   "language": "python",
   "name": "python3"
  },
  "language_info": {
   "codemirror_mode": {
    "name": "ipython",
    "version": 3
   },
   "file_extension": ".py",
   "mimetype": "text/x-python",
   "name": "python",
   "nbconvert_exporter": "python",
   "pygments_lexer": "ipython3",
   "version": "3.6.1"
  }
 },
 "nbformat": 4,
 "nbformat_minor": 2
}
